{
 "cells": [
  {
   "cell_type": "markdown",
   "id": "f7ab07f1",
   "metadata": {},
   "source": [
    "# Data Science Tools and Ecosystem"
   ]
  },
  {
   "cell_type": "markdown",
   "id": "04949581",
   "metadata": {},
   "source": [
    "In this notebook, Data Science Tools and Ecosystem are summarized."
   ]
  },
  {
   "cell_type": "markdown",
   "id": "1ca943fc",
   "metadata": {},
   "source": [
    "Some of the popular languages that Data Scientists use are:\n",
    "1. Python\n",
    "2. R\n",
    "3. Julia\n",
    "4. Scala"
   ]
  },
  {
   "cell_type": "markdown",
   "id": "45000325",
   "metadata": {},
   "source": [
    "Some of the commonly used libraries used by Data Scientists include:\n",
    "1. NumPy.\n",
    "2. Pandas\n",
    "3. PyTorch.\n",
    "4. SciPy."
   ]
  },
  {
   "cell_type": "markdown",
   "id": "1b27fc29",
   "metadata": {},
   "source": [
    "|Data Science Tools|\n",
    "|------------------|\n",
    "|Apache Hadoop|\n",
    "|Tableau|\n",
    "|TensorFlow|\n",
    "|BigML|\n"
   ]
  },
  {
   "cell_type": "markdown",
   "id": "32c61647",
   "metadata": {},
   "source": [
    "### Below are a few examples of evaluating arithmetic expressions in Python"
   ]
  },
  {
   "cell_type": "markdown",
   "id": "ee901806",
   "metadata": {},
   "source": [
    "This a simple arithmetic expression to mutiply then add integers"
   ]
  },
  {
   "cell_type": "code",
   "execution_count": 1,
   "id": "f40609ba",
   "metadata": {},
   "outputs": [
    {
     "data": {
      "text/plain": [
       "17"
      ]
     },
     "execution_count": 1,
     "metadata": {},
     "output_type": "execute_result"
    }
   ],
   "source": [
    "(3*4)+5"
   ]
  },
  {
   "cell_type": "markdown",
   "id": "4663a0d1",
   "metadata": {},
   "source": [
    "This will convert 200 minutes to hours by diving by 60"
   ]
  },
  {
   "cell_type": "code",
   "execution_count": 2,
   "id": "299f5fa1",
   "metadata": {},
   "outputs": [
    {
     "name": "stdout",
     "output_type": "stream",
     "text": [
      "200 minutes= 3 Hours & 20 Minutes\n"
     ]
    }
   ],
   "source": [
    "x=200\n",
    "y=60\n",
    "h=x//y\n",
    "m=x%y\n",
    "print(\"200 minutes=\",h,\"Hours &\",m, \"Minutes\" )"
   ]
  },
  {
   "cell_type": "markdown",
   "id": "ce9b5aa9",
   "metadata": {},
   "source": [
    "**Objectives:**\n",
    "_List popular languages for Data Science:_\n",
    "* Python\n",
    "* R\n",
    "* Julia\n",
    "* Scala"
   ]
  },
  {
   "cell_type": "markdown",
   "id": "447fd2d5",
   "metadata": {},
   "source": [
    "## Author\n",
    "Md. Raihan Islam"
   ]
  },
  {
   "cell_type": "code",
   "execution_count": null,
   "id": "1f02e5a8",
   "metadata": {},
   "outputs": [],
   "source": []
  }
 ],
 "metadata": {
  "kernelspec": {
   "display_name": "Python 3 (ipykernel)",
   "language": "python",
   "name": "python3"
  },
  "language_info": {
   "codemirror_mode": {
    "name": "ipython",
    "version": 3
   },
   "file_extension": ".py",
   "mimetype": "text/x-python",
   "name": "python",
   "nbconvert_exporter": "python",
   "pygments_lexer": "ipython3",
   "version": "3.11.3"
  }
 },
 "nbformat": 4,
 "nbformat_minor": 5
}
